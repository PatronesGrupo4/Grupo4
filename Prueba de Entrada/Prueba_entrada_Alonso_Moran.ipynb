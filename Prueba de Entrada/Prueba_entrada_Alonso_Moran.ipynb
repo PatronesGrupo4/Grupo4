{
 "cells": [
  {
   "cell_type": "code",
   "execution_count": 1,
   "metadata": {},
   "outputs": [],
   "source": [
    "import numpy as np\n"
   ]
  },
  {
   "cell_type": "code",
   "execution_count": 9,
   "metadata": {},
   "outputs": [
    {
     "name": "stdout",
     "output_type": "stream",
     "text": [
      "-1.0505438010082082\n",
      "-0.6546441470558257\n",
      "-0.21202496113667757\n"
     ]
    }
   ],
   "source": [
    "# Ejercicio 1\n",
    "\n",
    "lista = list(np.random.randn(10))\n",
    "for elemento in lista:\n",
    "    if elemento<0:\n",
    "        print(elemento)"
   ]
  },
  {
   "cell_type": "code",
   "execution_count": 15,
   "metadata": {},
   "outputs": [
    {
     "data": {
      "text/plain": [
       "array([[ 1.95280721, -0.34250595, -1.03045695],\n",
       "       [ 0.0601603 , -1.66640947,  0.5989859 ],\n",
       "       [-0.17304928,  0.59141424, -0.64401664]])"
      ]
     },
     "execution_count": 15,
     "metadata": {},
     "output_type": "execute_result"
    }
   ],
   "source": [
    "# Ejercicio 2\n",
    "\n",
    "matriz = np.random.randn(3,3)\n",
    "matriz"
   ]
  },
  {
   "cell_type": "code",
   "execution_count": 18,
   "metadata": {},
   "outputs": [
    {
     "data": {
      "text/plain": [
       "array([[8568, 1988, 1424],\n",
       "       [1046,  452, 3125],\n",
       "       [ 123,  113,   25]])"
      ]
     },
     "execution_count": 18,
     "metadata": {},
     "output_type": "execute_result"
    }
   ],
   "source": [
    "# Ejercicio 3\n",
    "\n",
    "A = np.random.randint(0,100,(3,3))\n",
    "B = np.random.randint(0,100,(3,1))\n",
    "C = np.random.randint(0,100,(3,1))\n",
    "\n",
    "resultado = A*B+C\n",
    "resultado\n"
   ]
  },
  {
   "cell_type": "code",
   "execution_count": 24,
   "metadata": {},
   "outputs": [
    {
     "data": {
      "text/plain": [
       "[1,\n",
       " 2,\n",
       " 'm3',\n",
       " 4,\n",
       " 5,\n",
       " 'm3',\n",
       " 7,\n",
       " 8,\n",
       " 'm3',\n",
       " 10,\n",
       " 11,\n",
       " 'm3',\n",
       " 13,\n",
       " 14,\n",
       " 'm3',\n",
       " 16,\n",
       " 17,\n",
       " 'm3',\n",
       " 19,\n",
       " 20,\n",
       " 'm3',\n",
       " 22,\n",
       " 23,\n",
       " 'm3',\n",
       " 25,\n",
       " 26,\n",
       " 'm3',\n",
       " 28,\n",
       " 29,\n",
       " 'm3',\n",
       " 31,\n",
       " 32,\n",
       " 'm3',\n",
       " 34,\n",
       " 35,\n",
       " 'm3',\n",
       " 37,\n",
       " 38,\n",
       " 'm3',\n",
       " 40,\n",
       " 41,\n",
       " 'm3',\n",
       " 43,\n",
       " 44,\n",
       " 'm3',\n",
       " 46,\n",
       " 47,\n",
       " 'm3',\n",
       " 49,\n",
       " 50,\n",
       " 'm3',\n",
       " 52,\n",
       " 53,\n",
       " 'm3',\n",
       " 55,\n",
       " 56,\n",
       " 'm3',\n",
       " 58,\n",
       " 59,\n",
       " 'm3',\n",
       " 61,\n",
       " 62,\n",
       " 'm3',\n",
       " 64,\n",
       " 65,\n",
       " 'm3',\n",
       " 67,\n",
       " 68,\n",
       " 'm3',\n",
       " 70,\n",
       " 71,\n",
       " 'm3',\n",
       " 73,\n",
       " 74,\n",
       " 'm3',\n",
       " 76,\n",
       " 77,\n",
       " 'm3',\n",
       " 79,\n",
       " 80,\n",
       " 'm3',\n",
       " 82,\n",
       " 83,\n",
       " 'm3',\n",
       " 85,\n",
       " 86,\n",
       " 'm3',\n",
       " 88,\n",
       " 89,\n",
       " 'm3',\n",
       " 91,\n",
       " 92,\n",
       " 'm3',\n",
       " 94,\n",
       " 95,\n",
       " 'm3',\n",
       " 97,\n",
       " 98,\n",
       " 'm3',\n",
       " 100]"
      ]
     },
     "execution_count": 24,
     "metadata": {},
     "output_type": "execute_result"
    }
   ],
   "source": [
    "# Ejercicio 4\n",
    "\n",
    "lista = []\n",
    "for i in range(1,101):\n",
    "    lista.append(i)\n",
    "\n",
    "for elemento in lista:\n",
    "    if (elemento%3)==0:\n",
    "        ind = lista.index(elemento)\n",
    "        lista[ind] = 'm3'\n",
    "        \n",
    "\n",
    "lista   \n",
    "\n"
   ]
  },
  {
   "cell_type": "code",
   "execution_count": 25,
   "metadata": {},
   "outputs": [
    {
     "name": "stdout",
     "output_type": "stream",
     "text": [
      "Resultado de D * E:\n",
      "[[3]\n",
      " [1]]\n",
      "Resultado de D * F:\n",
      "[[2]\n",
      " [4]]\n",
      "Resultado de D * G:\n",
      "[[5]\n",
      " [5]]\n",
      "Autovalores:\n",
      "[2. 5.]\n",
      "Autovectores:\n",
      "[[-0.89442719 -0.70710678]\n",
      " [ 0.4472136  -0.70710678]]\n"
     ]
    }
   ],
   "source": [
    "# Ejercicio 9\n",
    "\n",
    "D = np.array([[3, 2], [1, 4]])\n",
    "E = np.array([[1], [0]])\n",
    "F = np.array([[0], [1]])\n",
    "G = np.array([[1], [1]])\n",
    "\n",
    "result_E = np.dot(D, E)\n",
    "result_F = np.dot(D, F)\n",
    "result_G = np.dot(D, G)\n",
    "\n",
    "print(\"Resultado de D * E:\")\n",
    "print(result_E)\n",
    "\n",
    "print(\"Resultado de D * F:\")\n",
    "print(result_F)\n",
    "\n",
    "print(\"Resultado de D * G:\")\n",
    "print(result_G)\n",
    "\n",
    "eigenvalues, eigenvectors = np.linalg.eig(D)\n",
    "\n",
    "print(\"Autovalores:\")\n",
    "print(eigenvalues)\n",
    "\n",
    "print(\"Autovectores:\")\n",
    "print(eigenvectors)\n"
   ]
  }
 ],
 "metadata": {
  "kernelspec": {
   "display_name": "base",
   "language": "python",
   "name": "python3"
  },
  "language_info": {
   "codemirror_mode": {
    "name": "ipython",
    "version": 3
   },
   "file_extension": ".py",
   "mimetype": "text/x-python",
   "name": "python",
   "nbconvert_exporter": "python",
   "pygments_lexer": "ipython3",
   "version": "3.9.12"
  },
  "orig_nbformat": 4
 },
 "nbformat": 4,
 "nbformat_minor": 2
}
